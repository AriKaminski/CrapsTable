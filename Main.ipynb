{
 "cells": [
  {
   "cell_type": "code",
   "execution_count": 87,
   "id": "8ef2f7fb",
   "metadata": {},
   "outputs": [
    {
     "name": "stdout",
     "output_type": "stream",
     "text": [
      "7 Winner!\n",
      "The point is : 10\n",
      "5\n",
      "3\n",
      "8\n",
      "6\n",
      "9\n",
      "5\n",
      "8\n",
      "8\n",
      "7 out, Loser!\n"
     ]
    }
   ],
   "source": [
    "#This is a Craps Table simulation game\n",
    "#Author - Ari Kaminski\n",
    "#Version 1.0 - working table without bets\n",
    "\n",
    "\n",
    "import random\n",
    "def rollDice():\n",
    "    die1 = random.randint(1,6)\n",
    "    die2 = random.randint(1,6)\n",
    "    total = die1 + die2\n",
    "    return total\n",
    "\n",
    "def main():\n",
    "    comeOut = True\n",
    "    while comeOut == True:\n",
    "        point = rollDice()\n",
    "        if (point == 2 or point == 3 or point == 12):\n",
    "            print(point, \"Craps!\")\n",
    "        elif (point == 7 or point == 11):\n",
    "            print(point, \"Winner!\")\n",
    "        elif (point == 4 or point == 5 or point == 6 or point == 8 or point == 9 or point == 10):\n",
    "            print(\"The point is :\", point)\n",
    "            comeOut = False\n",
    "            while comeOut == False:\n",
    "                x = rollDice()\n",
    "                if (x == point):\n",
    "                    print(x, \"Big Winner!\")\n",
    "                    break\n",
    "                elif (x == 7):\n",
    "                    print(x,\"out, Loser!\")\n",
    "                    break\n",
    "                else:\n",
    "                    print(x)\n",
    "                    rollDice()\n",
    "        else:\n",
    "            rollDice()\n",
    "            \n",
    "        \n",
    "if __name__ == \"__main__\":\n",
    "    main()"
   ]
  },
  {
   "cell_type": "code",
   "execution_count": null,
   "id": "aac0dd35",
   "metadata": {},
   "outputs": [],
   "source": []
  }
 ],
 "metadata": {
  "kernelspec": {
   "display_name": "Python 3",
   "language": "python",
   "name": "python3"
  },
  "language_info": {
   "codemirror_mode": {
    "name": "ipython",
    "version": 3
   },
   "file_extension": ".py",
   "mimetype": "text/x-python",
   "name": "python",
   "nbconvert_exporter": "python",
   "pygments_lexer": "ipython3",
   "version": "3.8.8"
  }
 },
 "nbformat": 4,
 "nbformat_minor": 5
}
