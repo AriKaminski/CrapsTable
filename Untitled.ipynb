{
 "cells": [
  {
   "cell_type": "code",
   "execution_count": null,
   "id": "0a2e2c47",
   "metadata": {},
   "outputs": [],
   "source": [
    "#This is code for a casino craps table simulation\n",
    "#Author Ari Kaminski\n",
    "#Version 0.1 --- Dec 6th 2021\n",
    "import sys\n",
    "import random\n",
    "\n",
    "\n",
    "\n",
    "def rollDice():\n",
    "    die1 = random.randint(1,6)\n",
    "    die2 = random.randint(1,6)\n",
    "    total = die1 + die2\n",
    "    print(total)\n",
    "    return total\n",
    "\n",
    "def comeOut():\n",
    "    PointOn = False\n",
    "    point = rollDice()\n",
    "    \n",
    "    while PointOn == False:\n",
    "        if (point == 4 or point == 5 or point == 6 or point == 8 or point == 9 or point == 10):\n",
    "            print(\"The point is : \", point)            \n",
    "            PointOn = True\n",
    "            return point\n",
    "        else:\n",
    "            print(\"Keep rolling\")\n",
    "            rollDice()\n",
    "            \n",
    "        \n",
    "    \n",
    "\n",
    "def main():\n",
    "    comeOut()\n",
    "    \n",
    "    \n",
    "\n",
    "if __name__ == \"__main__\":\n",
    "    main()"
   ]
  },
  {
   "cell_type": "code",
   "execution_count": null,
   "id": "8df0f4fd",
   "metadata": {},
   "outputs": [],
   "source": [
    "    PointOn = True\n",
    "    while PointOn == True:\n",
    "        total = rollDice()\n",
    "        if total == point:\n",
    "            print(\"Big WINNER!\")\n",
    "            PointOn == False\n",
    "            break\n",
    "        elif total == 7:\n",
    "            print(\"Loser!\")\n",
    "            PointOn == False\n",
    "            break\n",
    "        else:\n",
    "            print(\"Keep rolling!\")\n",
    "            rollDice()"
   ]
  },
  {
   "cell_type": "code",
   "execution_count": null,
   "id": "5cf680fe",
   "metadata": {},
   "outputs": [],
   "source": [
    "    while PointOn == False:\n",
    "        if (point == 2 or point == 3 or point == 12):\n",
    "            print(\"Craps!\")            \n",
    "            PointOn = False\n",
    "            break\n",
    "        elif (point == 7 or point == 11):\n",
    "            print(\"Winner!\")\n",
    "            PointOn = False\n",
    "            break\n",
    "        else:\n",
    "            print(\"The point is :\", point)\n",
    "            PointOn = True\n",
    "            break\n",
    "            return point"
   ]
  }
 ],
 "metadata": {
  "kernelspec": {
   "display_name": "Python 3",
   "language": "python",
   "name": "python3"
  },
  "language_info": {
   "codemirror_mode": {
    "name": "ipython",
    "version": 3
   },
   "file_extension": ".py",
   "mimetype": "text/x-python",
   "name": "python",
   "nbconvert_exporter": "python",
   "pygments_lexer": "ipython3",
   "version": "3.8.8"
  }
 },
 "nbformat": 4,
 "nbformat_minor": 5
}
